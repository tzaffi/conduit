{
 "cells": [
  {
   "cell_type": "code",
   "execution_count": 5,
   "metadata": {},
   "outputs": [],
   "source": [
    "from pathlib import Path\n",
    "\n",
    "import polars as pl\n",
    "\n",
    "SCRIPT_DIR = Path.cwd()\n",
    "DELTA_LAKE_TXNS = SCRIPT_DIR / \"pypolars_data\" / \"exporter_http\" / \"txns.parquet\""
   ]
  },
  {
   "cell_type": "code",
   "execution_count": 4,
   "metadata": {},
   "outputs": [
    {
     "data": {
      "text/plain": [
       "PosixPath('/Users/zeph/github/algorand/conduit/examples/pypolars_data/exporter_http/txns.parquet')"
      ]
     },
     "execution_count": 4,
     "metadata": {},
     "output_type": "execute_result"
    }
   ],
   "source": [
    "DELTA_LAKE_TXNS"
   ]
  },
  {
   "cell_type": "code",
   "execution_count": 7,
   "metadata": {},
   "outputs": [],
   "source": [
    "df = pl.read_parquet(DELTA_LAKE_TXNS)"
   ]
  },
  {
   "cell_type": "code",
   "execution_count": 8,
   "metadata": {},
   "outputs": [
    {
     "data": {
      "text/html": [
       "<div><style>\n",
       ".dataframe > thead > tr > th,\n",
       ".dataframe > tbody > tr > td {\n",
       "  text-align: right;\n",
       "}\n",
       "</style>\n",
       "<small>shape: (906, 39)</small><table border=\"1\" class=\"dataframe\"><thead><tr><th>index</th><th>apid</th><th>dt_gd</th><th>dt_lg</th><th>hgi</th><th>sig</th><th>txn_apap</th><th>txn_apgs_nbs</th><th>txn_apgs_nui</th><th>txn_apls_nbs</th><th>txn_apls_nui</th><th>txn_apsu</th><th>txn_fee</th><th>txn_fv</th><th>txn_grp</th><th>txn_lv</th><th>txn_note</th><th>txn_snd</th><th>txn_type</th><th>txn_amt</th><th>txn_rcv</th><th>caid</th><th>txn_apar_an</th><th>txn_apar_c</th><th>txn_apar_f</th><th>txn_apar_m</th><th>txn_apar_r</th><th>txn_apar_t</th><th>txn_arcv</th><th>txn_xaid</th><th>dt_itx</th><th>txn_apan</th><th>txn_apat</th><th>txn_apbx</th><th>txn_apid</th><th>txn_aamt</th><th>aca</th><th>txn_aclose</th><th>txn_apaa</th></tr><tr><td>list[i64]</td><td>i64</td><td>str</td><td>list[str]</td><td>bool</td><td>str</td><td>str</td><td>i64</td><td>i64</td><td>i64</td><td>i64</td><td>str</td><td>i64</td><td>i64</td><td>str</td><td>i64</td><td>str</td><td>str</td><td>str</td><td>i64</td><td>str</td><td>i64</td><td>str</td><td>str</td><td>str</td><td>str</td><td>str</td><td>i64</td><td>str</td><td>i64</td><td>list[struct[3]]</td><td>i64</td><td>list[str]</td><td>list[struct[1]]</td><td>i64</td><td>i64</td><td>i64</td><td>str</td><td>list[str]</td></tr></thead><tbody><tr><td>[1, 0]</td><td>1001</td><td>&quot;{&#x27;U00000000000…</td><td>[&quot;U~\u0002\u0000\u0000\u0000\u0000\u0000\u0000\u0000\u0000\u0000\u0000\u0000\u0000\u0000\u0000\u0000\u0000\u0000\u0000\u0000\u0000\u0000\u0000\u0000\u0000\u0000\u0000\u0000\u0000\u0000\u0000&quot;]</td><td>true</td><td>&quot;U\u0000\u0000\u0000\u0000\u0000\u0000\u0000\u0000\u0000\u0000\u0000\u0000\u0000…</td><td>&quot;BCCAHAAIBBtAPB…</td><td>32</td><td>32</td><td>8</td><td>8</td><td>&quot;BCIEBQw==&quot;</td><td>1000</td><td>1</td><td>&quot;BOO1Rj5e4SaBfV…</td><td>1001</td><td>&quot;B6AMAAAAAAAA=&quot;</td><td>&quot;U~\u0002\u0000\u0000\u0000\u0000\u0000\u0000\u0000\u0000\u0000\u0000\u0000…</td><td>&quot;Uappl&quot;</td><td>null</td><td>null</td><td>null</td><td>null</td><td>null</td><td>null</td><td>null</td><td>null</td><td>null</td><td>null</td><td>null</td><td>null</td><td>null</td><td>null</td><td>null</td><td>null</td><td>null</td><td>null</td><td>null</td><td>null</td></tr><tr><td>[1, 1]</td><td>null</td><td>&quot;{&#x27;U00000000000…</td><td>null</td><td>true</td><td>&quot;U\u0000\u0000\u0000\u0000\u0000\u0000\u0000\u0000\u0000\u0000\u0000\u0000\u0000…</td><td>null</td><td>null</td><td>null</td><td>null</td><td>null</td><td>null</td><td>1000</td><td>1</td><td>&quot;BOO1Rj5e4SaBfV…</td><td>1001</td><td>&quot;B6AMAAAAAAAA=&quot;</td><td>&quot;U~\u0002\u0000\u0000\u0000\u0000\u0000\u0000\u0000\u0000\u0000\u0000\u0000…</td><td>&quot;Upay&quot;</td><td>2000000</td><td>&quot;BcqQ3CdepmBvDs…</td><td>null</td><td>null</td><td>null</td><td>null</td><td>null</td><td>null</td><td>null</td><td>null</td><td>null</td><td>null</td><td>null</td><td>null</td><td>null</td><td>null</td><td>null</td><td>null</td><td>null</td><td>null</td></tr><tr><td>[1, 2]</td><td>null</td><td>&quot;{&#x27;U00000000000…</td><td>null</td><td>true</td><td>&quot;U\u0000\u0000\u0000\u0000\u0000\u0000\u0000\u0000\u0000\u0000\u0000\u0000\u0000…</td><td>null</td><td>null</td><td>null</td><td>null</td><td>null</td><td>null</td><td>1000</td><td>1</td><td>null</td><td>1001</td><td>&quot;B6gMAAAAAAAA=&quot;</td><td>&quot;U\u0001\u0000\u0000\u0000\u0000\u0000\u0000\u0000\u0000\u0000\u0000\u0000\u0000…</td><td>&quot;Uacfg&quot;</td><td>null</td><td>null</td><td>1003</td><td>&quot;Uasset #1003&quot;</td><td>&quot;U\u0001\u0000\u0000\u0000\u0000\u0000\u0000\u0000\u0000\u0000\u0000\u0000\u0000…</td><td>&quot;U\u0001\u0000\u0000\u0000\u0000\u0000\u0000\u0000\u0000\u0000\u0000\u0000\u0000…</td><td>&quot;U\u0001\u0000\u0000\u0000\u0000\u0000\u0000\u0000\u0000\u0000\u0000\u0000\u0000…</td><td>&quot;U\u0001\u0000\u0000\u0000\u0000\u0000\u0000\u0000\u0000\u0000\u0000\u0000\u0000…</td><td>100000000000000000</td><td>null</td><td>null</td><td>null</td><td>null</td><td>null</td><td>null</td><td>null</td><td>null</td><td>null</td><td>null</td><td>null</td></tr><tr><td>[1, 3]</td><td>1004</td><td>&quot;{&#x27;U00000000000…</td><td>[&quot;U!\u0003\u0000\u0000\u0000\u0000\u0000\u0000\u0000\u0000\u0000\u0000\u0000\u0000\u0000\u0000\u0000\u0000\u0000\u0000\u0000\u0000\u0000\u0000\u0000\u0000\u0000\u0000\u0000\u0000\u0000\u0000&quot;]</td><td>true</td><td>&quot;U\u0000\u0000\u0000\u0000\u0000\u0000\u0000\u0000\u0000\u0000\u0000\u0000\u0000…</td><td>&quot;BCCAHAAIBBtAPB…</td><td>32</td><td>32</td><td>8</td><td>8</td><td>&quot;BCIEBQw==&quot;</td><td>1000</td><td>1</td><td>&quot;BdJNpuio3NdMpq…</td><td>1001</td><td>&quot;B6wMAAAAAAAA=&quot;</td><td>&quot;U!\u0003\u0000\u0000\u0000\u0000\u0000\u0000\u0000\u0000\u0000\u0000\u0000…</td><td>&quot;Uappl&quot;</td><td>null</td><td>null</td><td>null</td><td>null</td><td>null</td><td>null</td><td>null</td><td>null</td><td>null</td><td>null</td><td>null</td><td>null</td><td>null</td><td>null</td><td>null</td><td>null</td><td>null</td><td>null</td><td>null</td><td>null</td></tr><tr><td>[1, 4]</td><td>null</td><td>&quot;{&#x27;U00000000000…</td><td>null</td><td>true</td><td>&quot;U\u0000\u0000\u0000\u0000\u0000\u0000\u0000\u0000\u0000\u0000\u0000\u0000\u0000…</td><td>null</td><td>null</td><td>null</td><td>null</td><td>null</td><td>null</td><td>1000</td><td>1</td><td>&quot;BdJNpuio3NdMpq…</td><td>1001</td><td>&quot;B6wMAAAAAAAA=&quot;</td><td>&quot;U!\u0003\u0000\u0000\u0000\u0000\u0000\u0000\u0000\u0000\u0000\u0000\u0000…</td><td>&quot;Upay&quot;</td><td>2000000</td><td>&quot;BlbgZ5MITWSHiQ…</td><td>null</td><td>null</td><td>null</td><td>null</td><td>null</td><td>null</td><td>null</td><td>null</td><td>null</td><td>null</td><td>null</td><td>null</td><td>null</td><td>null</td><td>null</td><td>null</td><td>null</td><td>null</td></tr><tr><td>[1, 5]</td><td>null</td><td>&quot;{&#x27;U00000000000…</td><td>null</td><td>true</td><td>&quot;U\u0000\u0000\u0000\u0000\u0000\u0000\u0000\u0000\u0000\u0000\u0000\u0000\u0000…</td><td>null</td><td>null</td><td>null</td><td>null</td><td>null</td><td>null</td><td>1000</td><td>1</td><td>null</td><td>1001</td><td>&quot;B7QMAAAAAAAA=&quot;</td><td>&quot;U\u0001\u0000\u0000\u0000\u0000\u0000\u0000\u0000\u0000\u0000\u0000\u0000\u0000…</td><td>&quot;Upay&quot;</td><td>1</td><td>&quot;Uf\u0001\u0000\u0000\u0000\u0000\u0000\u0000\u0000\u0000\u0000\u0000\u0000…</td><td>null</td><td>null</td><td>null</td><td>null</td><td>null</td><td>null</td><td>null</td><td>null</td><td>null</td><td>null</td><td>null</td><td>null</td><td>null</td><td>null</td><td>null</td><td>null</td><td>null</td><td>null</td></tr><tr><td>[1, 6]</td><td>null</td><td>&quot;{&#x27;U00000000000…</td><td>null</td><td>true</td><td>&quot;U\u0000\u0000\u0000\u0000\u0000\u0000\u0000\u0000\u0000\u0000\u0000\u0000\u0000…</td><td>null</td><td>null</td><td>null</td><td>null</td><td>null</td><td>null</td><td>1000</td><td>1</td><td>null</td><td>1001</td><td>&quot;B7gMAAAAAAAA=&quot;</td><td>&quot;U\u0002\u0000\u0000\u0000\u0000\u0000\u0000\u0000\u0000\u0000\u0000\u0000\u0000…</td><td>&quot;Uacfg&quot;</td><td>null</td><td>null</td><td>1007</td><td>&quot;Uasset #1007&quot;</td><td>&quot;U\u0002\u0000\u0000\u0000\u0000\u0000\u0000\u0000\u0000\u0000\u0000\u0000\u0000…</td><td>&quot;U\u0002\u0000\u0000\u0000\u0000\u0000\u0000\u0000\u0000\u0000\u0000\u0000\u0000…</td><td>&quot;U\u0002\u0000\u0000\u0000\u0000\u0000\u0000\u0000\u0000\u0000\u0000\u0000\u0000…</td><td>&quot;U\u0002\u0000\u0000\u0000\u0000\u0000\u0000\u0000\u0000\u0000\u0000\u0000\u0000…</td><td>100000000000000000</td><td>null</td><td>null</td><td>null</td><td>null</td><td>null</td><td>null</td><td>null</td><td>null</td><td>null</td><td>null</td><td>null</td></tr><tr><td>[1, 7]</td><td>1008</td><td>&quot;{&#x27;U00000000000…</td><td>[&quot;U\b\u0002\u0000\u0000\u0000\u0000\u0000\u0000\u0000\u0000\u0000\u0000\u0000\u0000\u0000\u0000\u0000\u0000\u0000\u0000\u0000\u0000\u0000\u0000\u0000\u0000\u0000\u0000\u0000\u0000\u0000\u0000&quot;]</td><td>true</td><td>&quot;U\u0000\u0000\u0000\u0000\u0000\u0000\u0000\u0000\u0000\u0000\u0000\u0000\u0000…</td><td>&quot;BCCAHAAIBBtAPB…</td><td>32</td><td>32</td><td>8</td><td>8</td><td>&quot;BCIEBQw==&quot;</td><td>1000</td><td>1</td><td>&quot;BFwruIBmkI4hJ6…</td><td>1001</td><td>&quot;B7wMAAAAAAAA=&quot;</td><td>&quot;U\b\u0002\u0000\u0000\u0000\u0000\u0000\u0000\u0000\u0000\u0000\u0000\u0000…</td><td>&quot;Uappl&quot;</td><td>null</td><td>null</td><td>null</td><td>null</td><td>null</td><td>null</td><td>null</td><td>null</td><td>null</td><td>null</td><td>null</td><td>null</td><td>null</td><td>null</td><td>null</td><td>null</td><td>null</td><td>null</td><td>null</td><td>null</td></tr><tr><td>[1, 8]</td><td>null</td><td>&quot;{&#x27;U00000000000…</td><td>null</td><td>true</td><td>&quot;U\u0000\u0000\u0000\u0000\u0000\u0000\u0000\u0000\u0000\u0000\u0000\u0000\u0000…</td><td>null</td><td>null</td><td>null</td><td>null</td><td>null</td><td>null</td><td>1000</td><td>1</td><td>&quot;BFwruIBmkI4hJ6…</td><td>1001</td><td>&quot;B7wMAAAAAAAA=&quot;</td><td>&quot;U\b\u0002\u0000\u0000\u0000\u0000\u0000\u0000\u0000\u0000\u0000\u0000\u0000…</td><td>&quot;Upay&quot;</td><td>2000000</td><td>&quot;BvEr7LMM0ii/St…</td><td>null</td><td>null</td><td>null</td><td>null</td><td>null</td><td>null</td><td>null</td><td>null</td><td>null</td><td>null</td><td>null</td><td>null</td><td>null</td><td>null</td><td>null</td><td>null</td><td>null</td><td>null</td></tr><tr><td>[1, 9]</td><td>null</td><td>&quot;{&#x27;U00000000000…</td><td>null</td><td>true</td><td>&quot;U\u0000\u0000\u0000\u0000\u0000\u0000\u0000\u0000\u0000\u0000\u0000\u0000\u0000…</td><td>null</td><td>null</td><td>null</td><td>null</td><td>null</td><td>null</td><td>1000</td><td>1</td><td>null</td><td>1001</td><td>&quot;B8QMAAAAAAAA=&quot;</td><td>&quot;U\u0003\u0000\u0000\u0000\u0000\u0000\u0000\u0000\u0000\u0000\u0000\u0000\u0000…</td><td>&quot;Uacfg&quot;</td><td>null</td><td>null</td><td>1010</td><td>&quot;Uasset #1010&quot;</td><td>&quot;U\u0003\u0000\u0000\u0000\u0000\u0000\u0000\u0000\u0000\u0000\u0000\u0000\u0000…</td><td>&quot;U\u0003\u0000\u0000\u0000\u0000\u0000\u0000\u0000\u0000\u0000\u0000\u0000\u0000…</td><td>&quot;U\u0003\u0000\u0000\u0000\u0000\u0000\u0000\u0000\u0000\u0000\u0000\u0000\u0000…</td><td>&quot;U\u0003\u0000\u0000\u0000\u0000\u0000\u0000\u0000\u0000\u0000\u0000\u0000\u0000…</td><td>100000000000000000</td><td>null</td><td>null</td><td>null</td><td>null</td><td>null</td><td>null</td><td>null</td><td>null</td><td>null</td><td>null</td><td>null</td></tr><tr><td>[1, 10]</td><td>null</td><td>&quot;{&#x27;U00000000000…</td><td>null</td><td>true</td><td>&quot;U\u0000\u0000\u0000\u0000\u0000\u0000\u0000\u0000\u0000\u0000\u0000\u0000\u0000…</td><td>null</td><td>null</td><td>null</td><td>null</td><td>null</td><td>null</td><td>1000</td><td>1</td><td>null</td><td>1001</td><td>&quot;B8gMAAAAAAAA=&quot;</td><td>&quot;U\u0002\u0000\u0000\u0000\u0000\u0000\u0000\u0000\u0000\u0000\u0000\u0000\u0000…</td><td>&quot;Upay&quot;</td><td>1</td><td>&quot;UP\u0002\u0000\u0000\u0000\u0000\u0000\u0000\u0000\u0000\u0000\u0000\u0000…</td><td>null</td><td>null</td><td>null</td><td>null</td><td>null</td><td>null</td><td>null</td><td>null</td><td>null</td><td>null</td><td>null</td><td>null</td><td>null</td><td>null</td><td>null</td><td>null</td><td>null</td><td>null</td></tr><tr><td>[1, 11]</td><td>null</td><td>&quot;{&#x27;U00000000000…</td><td>null</td><td>true</td><td>&quot;U\u0000\u0000\u0000\u0000\u0000\u0000\u0000\u0000\u0000\u0000\u0000\u0000\u0000…</td><td>null</td><td>null</td><td>null</td><td>null</td><td>null</td><td>null</td><td>1000</td><td>1</td><td>null</td><td>1001</td><td>&quot;B8wMAAAAAAAA=&quot;</td><td>&quot;U\u0003\u0000\u0000\u0000\u0000\u0000\u0000\u0000\u0000\u0000\u0000\u0000\u0000…</td><td>&quot;Upay&quot;</td><td>1</td><td>&quot;B0QAAAAAAAAAAA…</td><td>null</td><td>null</td><td>null</td><td>null</td><td>null</td><td>null</td><td>null</td><td>null</td><td>null</td><td>null</td><td>null</td><td>null</td><td>null</td><td>null</td><td>null</td><td>null</td><td>null</td><td>null</td></tr><tr><td>&hellip;</td><td>&hellip;</td><td>&hellip;</td><td>&hellip;</td><td>&hellip;</td><td>&hellip;</td><td>&hellip;</td><td>&hellip;</td><td>&hellip;</td><td>&hellip;</td><td>&hellip;</td><td>&hellip;</td><td>&hellip;</td><td>&hellip;</td><td>&hellip;</td><td>&hellip;</td><td>&hellip;</td><td>&hellip;</td><td>&hellip;</td><td>&hellip;</td><td>&hellip;</td><td>&hellip;</td><td>&hellip;</td><td>&hellip;</td><td>&hellip;</td><td>&hellip;</td><td>&hellip;</td><td>&hellip;</td><td>&hellip;</td><td>&hellip;</td><td>&hellip;</td><td>&hellip;</td><td>&hellip;</td><td>&hellip;</td><td>&hellip;</td><td>&hellip;</td><td>&hellip;</td><td>&hellip;</td><td>&hellip;</td></tr><tr><td>[9, 69]</td><td>null</td><td>&quot;{&#x27;Upoap_onboar…</td><td>null</td><td>true</td><td>&quot;U\u0000\u0000\u0000\u0000\u0000\u0000\u0000\u0000\u0000\u0000\u0000\u0000\u0000…</td><td>null</td><td>null</td><td>null</td><td>null</td><td>null</td><td>null</td><td>1000</td><td>9</td><td>null</td><td>1009</td><td>&quot;Uf\u0007\u0000\u0000\u0000\u0000\u0000\u0000&quot;</td><td>&quot;U\r\u0000\u0000\u0000\u0000\u0000\u0000\u0000\u0000\u0000\u0000\u0000\u0000…</td><td>&quot;Uaxfer&quot;</td><td>null</td><td>null</td><td>null</td><td>null</td><td>null</td><td>null</td><td>null</td><td>null</td><td>null</td><td>&quot;BnQIAAAAAAAAAA…</td><td>1092</td><td>null</td><td>null</td><td>null</td><td>null</td><td>null</td><td>10</td><td>null</td><td>null</td><td>null</td></tr><tr><td>[9, 70]</td><td>null</td><td>&quot;{&#x27;Upoap_onboar…</td><td>null</td><td>true</td><td>&quot;U\u0000\u0000\u0000\u0000\u0000\u0000\u0000\u0000\u0000\u0000\u0000\u0000\u0000…</td><td>null</td><td>null</td><td>null</td><td>null</td><td>null</td><td>null</td><td>1000</td><td>9</td><td>null</td><td>1009</td><td>&quot;Ug\u0007\u0000\u0000\u0000\u0000\u0000\u0000&quot;</td><td>&quot;U\b\u0000\u0000\u0000\u0000\u0000\u0000\u0000\u0000\u0000\u0000\u0000\u0000…</td><td>&quot;Uaxfer&quot;</td><td>null</td><td>null</td><td>null</td><td>null</td><td>null</td><td>null</td><td>null</td><td>null</td><td>null</td><td>&quot;BkwEAAAAAAAAAA…</td><td>1056</td><td>null</td><td>null</td><td>null</td><td>null</td><td>null</td><td>10</td><td>null</td><td>null</td><td>null</td></tr><tr><td>[9, 71]</td><td>null</td><td>&quot;{&#x27;Upoap_onboar…</td><td>null</td><td>true</td><td>&quot;U\u0000\u0000\u0000\u0000\u0000\u0000\u0000\u0000\u0000\u0000\u0000\u0000\u0000…</td><td>null</td><td>null</td><td>null</td><td>null</td><td>null</td><td>null</td><td>1000</td><td>9</td><td>null</td><td>1009</td><td>&quot;Uh\u0007\u0000\u0000\u0000\u0000\u0000\u0000&quot;</td><td>&quot;BgwAAAAAAAAAAA…</td><td>&quot;Upay&quot;</td><td>1</td><td>&quot;U\u0011\u0002\u0000\u0000\u0000\u0000\u0000\u0000\u0000\u0000\u0000\u0000\u0000…</td><td>null</td><td>null</td><td>null</td><td>null</td><td>null</td><td>null</td><td>null</td><td>null</td><td>null</td><td>null</td><td>null</td><td>null</td><td>null</td><td>null</td><td>null</td><td>null</td><td>null</td><td>null</td></tr><tr><td>[9, 72]</td><td>null</td><td>&quot;{&#x27;Upoap_onboar…</td><td>null</td><td>true</td><td>&quot;U\u0000\u0000\u0000\u0000\u0000\u0000\u0000\u0000\u0000\u0000\u0000\u0000\u0000…</td><td>null</td><td>null</td><td>null</td><td>null</td><td>null</td><td>null</td><td>1000</td><td>9</td><td>null</td><td>1009</td><td>&quot;Ui\u0007\u0000\u0000\u0000\u0000\u0000\u0000&quot;</td><td>&quot;BhAAAAAAAAAAAA…</td><td>&quot;Upay&quot;</td><td>1</td><td>&quot;BswMAAAAAAAAAA…</td><td>null</td><td>null</td><td>null</td><td>null</td><td>null</td><td>null</td><td>null</td><td>null</td><td>null</td><td>null</td><td>null</td><td>null</td><td>null</td><td>null</td><td>null</td><td>null</td><td>null</td><td>null</td></tr><tr><td>[9, 73]</td><td>null</td><td>&quot;{&#x27;Upoap_onboar…</td><td>null</td><td>true</td><td>&quot;U\u0000\u0000\u0000\u0000\u0000\u0000\u0000\u0000\u0000\u0000\u0000\u0000\u0000…</td><td>null</td><td>null</td><td>null</td><td>null</td><td>null</td><td>null</td><td>1000</td><td>9</td><td>null</td><td>1009</td><td>&quot;Uj\u0007\u0000\u0000\u0000\u0000\u0000\u0000&quot;</td><td>&quot;BhQAAAAAAAAAAA…</td><td>&quot;Upay&quot;</td><td>1</td><td>&quot;U\u0014\u0000\u0000\u0000\u0000\u0000\u0000\u0000\u0000\u0000\u0000\u0000\u0000…</td><td>null</td><td>null</td><td>null</td><td>null</td><td>null</td><td>null</td><td>null</td><td>null</td><td>null</td><td>null</td><td>null</td><td>null</td><td>null</td><td>null</td><td>null</td><td>null</td><td>null</td><td>null</td></tr><tr><td>[9, 74]</td><td>1900</td><td>&quot;{&#x27;Upoap_onboar…</td><td>null</td><td>true</td><td>&quot;U\u0000\u0000\u0000\u0000\u0000\u0000\u0000\u0000\u0000\u0000\u0000\u0000\u0000…</td><td>&quot;BByADAAEEMRsiE…</td><td>32</td><td>32</td><td>8</td><td>8</td><td>&quot;BB4EAQw==&quot;</td><td>1000</td><td>9</td><td>&quot;BwCocDNAez77Wf…</td><td>1009</td><td>&quot;Uk\u0007\u0000\u0000\u0000\u0000\u0000\u0000&quot;</td><td>&quot;BmwMAAAAAAAAAA…</td><td>&quot;Uappl&quot;</td><td>null</td><td>null</td><td>null</td><td>null</td><td>null</td><td>null</td><td>null</td><td>null</td><td>null</td><td>null</td><td>null</td><td>null</td><td>null</td><td>null</td><td>null</td><td>null</td><td>null</td><td>null</td><td>null</td><td>null</td></tr><tr><td>[9, 75]</td><td>null</td><td>&quot;{&#x27;Upoap_onboar…</td><td>null</td><td>true</td><td>&quot;U\u0000\u0000\u0000\u0000\u0000\u0000\u0000\u0000\u0000\u0000\u0000\u0000\u0000…</td><td>null</td><td>null</td><td>null</td><td>null</td><td>null</td><td>null</td><td>1000</td><td>9</td><td>null</td><td>1009</td><td>&quot;Ul\u0007\u0000\u0000\u0000\u0000\u0000\u0000&quot;</td><td>&quot;U\b\u0000\u0000\u0000\u0000\u0000\u0000\u0000\u0000\u0000\u0000\u0000\u0000…</td><td>&quot;Uaxfer&quot;</td><td>null</td><td>null</td><td>null</td><td>null</td><td>null</td><td>null</td><td>null</td><td>null</td><td>null</td><td>&quot;BkwEAAAAAAAAAA…</td><td>1056</td><td>null</td><td>null</td><td>null</td><td>null</td><td>null</td><td>10</td><td>null</td><td>null</td><td>null</td></tr><tr><td>[9, 76]</td><td>null</td><td>&quot;{&#x27;Upoap_onboar…</td><td>null</td><td>true</td><td>&quot;U\u0000\u0000\u0000\u0000\u0000\u0000\u0000\u0000\u0000\u0000\u0000\u0000\u0000…</td><td>null</td><td>null</td><td>null</td><td>null</td><td>null</td><td>null</td><td>1000</td><td>9</td><td>null</td><td>1009</td><td>&quot;Um\u0007\u0000\u0000\u0000\u0000\u0000\u0000&quot;</td><td>&quot;BhgAAAAAAAAAAA…</td><td>&quot;Upay&quot;</td><td>1</td><td>&quot;UH\u0002\u0000\u0000\u0000\u0000\u0000\u0000\u0000\u0000\u0000\u0000\u0000…</td><td>null</td><td>null</td><td>null</td><td>null</td><td>null</td><td>null</td><td>null</td><td>null</td><td>null</td><td>null</td><td>null</td><td>null</td><td>null</td><td>null</td><td>null</td><td>null</td><td>null</td><td>null</td></tr><tr><td>[9, 77]</td><td>null</td><td>&quot;{&#x27;Upoap_onboar…</td><td>[&quot;U\u0015\u001f|ualgopoap_optin&quot;]</td><td>true</td><td>&quot;U\u0000\u0000\u0000\u0000\u0000\u0000\u0000\u0000\u0000\u0000\u0000\u0000\u0000…</td><td>null</td><td>null</td><td>null</td><td>null</td><td>null</td><td>null</td><td>1000</td><td>9</td><td>&quot;BsMNuwTAka7YGz…</td><td>1009</td><td>&quot;Un\u0007\u0000\u0000\u0000\u0000\u0000\u0000&quot;</td><td>&quot;BswIAAAAAAAAAA…</td><td>&quot;Uappl&quot;</td><td>null</td><td>null</td><td>null</td><td>null</td><td>null</td><td>null</td><td>null</td><td>null</td><td>null</td><td>null</td><td>null</td><td>[{9,77,[0]}, {9,77,[1]}]</td><td>1</td><td>[&quot;Uo\u0003\u0000\u0000\u0000\u0000\u0000\u0000\u0000\u0000\u0000\u0000\u0000\u0000\u0000\u0000\u0000\u0000\u0000\u0000\u0000\u0000\u0000\u0000\u0000\u0000\u0000\u0000\u0000\u0000\u0000\u0000&quot;]</td><td>[{&quot;BswIAAAAAAAAAAAAAAAAAAAAAAAAAAAAAAAAAAAAAAAA=&quot;}]</td><td>1043</td><td>null</td><td>null</td><td>null</td><td>null</td></tr><tr><td>[9, 77, 0]</td><td>null</td><td>&quot;{&#x27;Upoap_onboar…</td><td>null</td><td>null</td><td>null</td><td>null</td><td>null</td><td>null</td><td>null</td><td>null</td><td>null</td><td>1000</td><td>9</td><td>null</td><td>1009</td><td>null</td><td>&quot;BGTpW2xBVjKZsQ…</td><td>&quot;Upay&quot;</td><td>764000</td><td>&quot;BswIAAAAAAAAAA…</td><td>null</td><td>null</td><td>null</td><td>null</td><td>null</td><td>null</td><td>null</td><td>null</td><td>null</td><td>null</td><td>null</td><td>null</td><td>null</td><td>null</td><td>null</td><td>null</td><td>null</td><td>null</td></tr><tr><td>[9, 77, 1]</td><td>null</td><td>&quot;{&#x27;Upoap_onboar…</td><td>null</td><td>null</td><td>null</td><td>null</td><td>null</td><td>null</td><td>null</td><td>null</td><td>null</td><td>1000</td><td>9</td><td>null</td><td>1009</td><td>null</td><td>&quot;BGTpW2xBVjKZsQ…</td><td>&quot;Upay&quot;</td><td>4000</td><td>&quot;Uo\u0003\u0000\u0000\u0000\u0000\u0000\u0000\u0000\u0000\u0000\u0000\u0000…</td><td>null</td><td>null</td><td>null</td><td>null</td><td>null</td><td>null</td><td>null</td><td>null</td><td>null</td><td>null</td><td>null</td><td>null</td><td>null</td><td>null</td><td>null</td><td>null</td><td>null</td><td>null</td></tr><tr><td>[9, 78]</td><td>null</td><td>&quot;{&#x27;Upoap_onboar…</td><td>null</td><td>true</td><td>&quot;U\u0000\u0000\u0000\u0000\u0000\u0000\u0000\u0000\u0000\u0000\u0000\u0000\u0000…</td><td>null</td><td>null</td><td>null</td><td>null</td><td>null</td><td>null</td><td>2000</td><td>9</td><td>&quot;BsMNuwTAka7YGz…</td><td>1009</td><td>&quot;Un\u0007\u0000\u0000\u0000\u0000\u0000\u0000&quot;</td><td>&quot;BswIAAAAAAAAAA…</td><td>&quot;Upay&quot;</td><td>2000000</td><td>&quot;BGTpW2xBVjKZsQ…</td><td>null</td><td>null</td><td>null</td><td>null</td><td>null</td><td>null</td><td>null</td><td>null</td><td>null</td><td>null</td><td>null</td><td>null</td><td>null</td><td>null</td><td>null</td><td>null</td><td>null</td><td>null</td></tr></tbody></table></div>"
      ],
      "text/plain": [
       "shape: (906, 39)\n",
       "┌────────────┬──────┬───────────────┬───────────────┬───┬──────────┬──────┬────────────┬───────────┐\n",
       "│ index      ┆ apid ┆ dt_gd         ┆ dt_lg         ┆ … ┆ txn_aamt ┆ aca  ┆ txn_aclose ┆ txn_apaa  │\n",
       "│ ---        ┆ ---  ┆ ---           ┆ ---           ┆   ┆ ---      ┆ ---  ┆ ---        ┆ ---       │\n",
       "│ list[i64]  ┆ i64  ┆ str           ┆ list[str]     ┆   ┆ i64      ┆ i64  ┆ str        ┆ list[str] │\n",
       "╞════════════╪══════╪═══════════════╪═══════════════╪═══╪══════════╪══════╪════════════╪═══════════╡\n",
       "│ [1, 0]     ┆ 1001 ┆ {'U0000000000 ┆ [\"U~\u0002\u0000\u0000\u0000\u0000\u0000\u0000\u0000\u0000\u0000\u0000\u0000\u0000\u0000\u0000\u0000\u0000\u0000\u0000\u0000\u0000\u0000\u0000\u0000\u0000\u0000\u0000\u0000…         ┆ … ┆ null     ┆ null ┆ null       ┆ null      │\n",
       "│            ┆      ┆ 0000000000000 ┆               ┆   ┆          ┆      ┆            ┆           │\n",
       "│            ┆      ┆ 000000…       ┆               ┆   ┆          ┆      ┆            ┆           │\n",
       "│ [1, 1]     ┆ null ┆ {'U0000000000 ┆ null          ┆ … ┆ null     ┆ null ┆ null       ┆ null      │\n",
       "│            ┆      ┆ 0000000000000 ┆               ┆   ┆          ┆      ┆            ┆           │\n",
       "│            ┆      ┆ 000000…       ┆               ┆   ┆          ┆      ┆            ┆           │\n",
       "│ [1, 2]     ┆ null ┆ {'U0000000000 ┆ null          ┆ … ┆ null     ┆ null ┆ null       ┆ null      │\n",
       "│            ┆      ┆ 0000000000000 ┆               ┆   ┆          ┆      ┆            ┆           │\n",
       "│            ┆      ┆ 000000…       ┆               ┆   ┆          ┆      ┆            ┆           │\n",
       "│ [1, 3]     ┆ 1004 ┆ {'U0000000000 ┆ [\"U!\u0003\u0000\u0000\u0000\u0000\u0000\u0000\u0000\u0000\u0000\u0000\u0000\u0000\u0000\u0000\u0000\u0000\u0000\u0000\u0000\u0000\u0000\u0000\u0000\u0000\u0000\u0000\u0000…         ┆ … ┆ null     ┆ null ┆ null       ┆ null      │\n",
       "│            ┆      ┆ 0000000000000 ┆               ┆   ┆          ┆      ┆            ┆           │\n",
       "│            ┆      ┆ 000000…       ┆               ┆   ┆          ┆      ┆            ┆           │\n",
       "│ …          ┆ …    ┆ …             ┆ …             ┆ … ┆ …        ┆ …    ┆ …          ┆ …         │\n",
       "│ [9, 77]    ┆ null ┆ {'Upoap_onboa ┆ [\"U\u0015\u001f|ualgopo   ┆ … ┆ null     ┆ null ┆ null       ┆ null      │\n",
       "│            ┆      ┆ rd_count':    ┆ ap_optin\"]    ┆   ┆          ┆      ┆            ┆           │\n",
       "│            ┆      ┆ {'Uat': …     ┆               ┆   ┆          ┆      ┆            ┆           │\n",
       "│ [9, 77, 0] ┆ null ┆ {'Upoap_onboa ┆ null          ┆ … ┆ null     ┆ null ┆ null       ┆ null      │\n",
       "│            ┆      ┆ rd_count':    ┆               ┆   ┆          ┆      ┆            ┆           │\n",
       "│            ┆      ┆ {'Uat': …     ┆               ┆   ┆          ┆      ┆            ┆           │\n",
       "│ [9, 77, 1] ┆ null ┆ {'Upoap_onboa ┆ null          ┆ … ┆ null     ┆ null ┆ null       ┆ null      │\n",
       "│            ┆      ┆ rd_count':    ┆               ┆   ┆          ┆      ┆            ┆           │\n",
       "│            ┆      ┆ {'Uat': …     ┆               ┆   ┆          ┆      ┆            ┆           │\n",
       "│ [9, 78]    ┆ null ┆ {'Upoap_onboa ┆ null          ┆ … ┆ null     ┆ null ┆ null       ┆ null      │\n",
       "│            ┆      ┆ rd_count':    ┆               ┆   ┆          ┆      ┆            ┆           │\n",
       "│            ┆      ┆ {'Uat': …     ┆               ┆   ┆          ┆      ┆            ┆           │\n",
       "└────────────┴──────┴───────────────┴───────────────┴───┴──────────┴──────┴────────────┴───────────┘"
      ]
     },
     "execution_count": 8,
     "metadata": {},
     "output_type": "execute_result"
    }
   ],
   "source": [
    "df"
   ]
  },
  {
   "cell_type": "code",
   "execution_count": 10,
   "metadata": {},
   "outputs": [
    {
     "data": {
      "text/html": [
       "<div><style>\n",
       ".dataframe > thead > tr > th,\n",
       ".dataframe > tbody > tr > td {\n",
       "  text-align: right;\n",
       "}\n",
       "</style>\n",
       "<small>shape: (906,)</small><table border=\"1\" class=\"dataframe\"><thead><tr><th>index</th></tr><tr><td>list[i64]</td></tr></thead><tbody><tr><td>[1, 0]</td></tr><tr><td>[1, 1]</td></tr><tr><td>[1, 2]</td></tr><tr><td>[1, 3]</td></tr><tr><td>[1, 4]</td></tr><tr><td>[1, 5]</td></tr><tr><td>[1, 6]</td></tr><tr><td>[1, 7]</td></tr><tr><td>[1, 8]</td></tr><tr><td>[1, 9]</td></tr><tr><td>[1, 10]</td></tr><tr><td>[1, 11]</td></tr><tr><td>&hellip;</td></tr><tr><td>[9, 69]</td></tr><tr><td>[9, 70]</td></tr><tr><td>[9, 71]</td></tr><tr><td>[9, 72]</td></tr><tr><td>[9, 73]</td></tr><tr><td>[9, 74]</td></tr><tr><td>[9, 75]</td></tr><tr><td>[9, 76]</td></tr><tr><td>[9, 77]</td></tr><tr><td>[9, 77, 0]</td></tr><tr><td>[9, 77, 1]</td></tr><tr><td>[9, 78]</td></tr></tbody></table></div>"
      ],
      "text/plain": [
       "shape: (906,)\n",
       "Series: 'index' [list[i64]]\n",
       "[\n",
       "\t[1, 0]\n",
       "\t[1, 1]\n",
       "\t[1, 2]\n",
       "\t[1, 3]\n",
       "\t[1, 4]\n",
       "\t[1, 5]\n",
       "\t[1, 6]\n",
       "\t[1, 7]\n",
       "\t[1, 8]\n",
       "\t[1, 9]\n",
       "\t[1, 10]\n",
       "\t[1, 11]\n",
       "\t…\n",
       "\t[9, 68]\n",
       "\t[9, 69]\n",
       "\t[9, 70]\n",
       "\t[9, 71]\n",
       "\t[9, 72]\n",
       "\t[9, 73]\n",
       "\t[9, 74]\n",
       "\t[9, 75]\n",
       "\t[9, 76]\n",
       "\t[9, 77]\n",
       "\t[9, 77, 0]\n",
       "\t[9, 77, 1]\n",
       "\t[9, 78]\n",
       "]"
      ]
     },
     "execution_count": 10,
     "metadata": {},
     "output_type": "execute_result"
    }
   ],
   "source": [
    "df[\"index\"]"
   ]
  },
  {
   "cell_type": "code",
   "execution_count": null,
   "metadata": {},
   "outputs": [],
   "source": []
  }
 ],
 "metadata": {
  "kernelspec": {
   "display_name": ".venv",
   "language": "python",
   "name": "python3"
  },
  "language_info": {
   "codemirror_mode": {
    "name": "ipython",
    "version": 3
   },
   "file_extension": ".py",
   "mimetype": "text/x-python",
   "name": "python",
   "nbconvert_exporter": "python",
   "pygments_lexer": "ipython3",
   "version": "3.11.1"
  },
  "orig_nbformat": 4
 },
 "nbformat": 4,
 "nbformat_minor": 2
}
